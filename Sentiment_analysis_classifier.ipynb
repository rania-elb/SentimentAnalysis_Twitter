{
 "cells": [
  {
   "cell_type": "code",
   "execution_count": 1,
   "metadata": {
    "collapsed": true
   },
   "outputs": [],
   "source": [
    "import csv\n",
    "import re\n",
    "import re\n",
    "import csv\n",
    "import nltk\n"
   ]
  },
  {
   "cell_type": "code",
   "execution_count": 3,
   "metadata": {
    "collapsed": true
   },
   "outputs": [],
   "source": [
    "#start process_tweet\n",
    "def processTweet(tweet):\n",
    "    # process the tweets\n",
    "\n",
    "    #Convert to lower case\n",
    "    tweet = tweet.lower()\n",
    "    #Convert www.* or https?://* to URL\n",
    "    tweet = re.sub('((www\\.[^\\s]+)|(https?://[^\\s]+))','URL',tweet)\n",
    "    #Convert @username to AT_USER\n",
    "    tweet = re.sub('@[^\\s]+','AT_USER',tweet)\n",
    "    #Remove additional white spaces\n",
    "    tweet = re.sub('[\\s]+', ' ', tweet)\n",
    "    #Replace #word with word\n",
    "    tweet = re.sub(r'#([^\\s]+)', r'\\1', tweet)\n",
    "    #trim\n",
    "    tweet = tweet.strip('\\'\"')\n",
    "    return tweet\n",
    "#end\n",
    "\n",
    "\n"
   ]
  },
  {
   "cell_type": "code",
   "execution_count": 4,
   "metadata": {
    "collapsed": true
   },
   "outputs": [],
   "source": [
    "#initialize stopWords\n",
    "stopWords = []\n",
    "\n",
    "#start replaceTwoOrMore\n",
    "def replaceTwoOrMore(s):\n",
    "    #look for 2 or more repetitions of character and replace with the character itself\n",
    "    pattern = re.compile(r\"(.)\\1{1,}\", re.DOTALL)\n",
    "    return pattern.sub(r\"\\1\\1\", s)\n",
    "#end\n",
    "\n"
   ]
  },
  {
   "cell_type": "code",
   "execution_count": 5,
   "metadata": {
    "collapsed": true
   },
   "outputs": [],
   "source": [
    "#start getStopWordList\n",
    "def getStopWordList(stopWordListFileName):\n",
    "    #read the stopwords file and build a list\n",
    "    stopWords = []\n",
    "    stopWords.append('AT_USER')\n",
    "    stopWords.append('URL')\n",
    "\n",
    "    fp = open(stopWordListFileName, 'r')\n",
    "    line = fp.readline()\n",
    "    while line:\n",
    "        word = line.strip()\n",
    "        stopWords.append(word)\n",
    "        line = fp.readline()\n",
    "    fp.close()\n",
    "    return stopWords\n",
    "#end\n"
   ]
  },
  {
   "cell_type": "code",
   "execution_count": 6,
   "metadata": {
    "collapsed": true
   },
   "outputs": [],
   "source": [
    "\n",
    "#start getfeatureVector\n",
    "def getFeatureVector(tweet):\n",
    "    featureVector = []\n",
    "    #split tweet into words\n",
    "    words = tweet.split()\n",
    "    for w in words:\n",
    "        #replace two or more with two occurrences\n",
    "        w = replaceTwoOrMore(w)\n",
    "        #strip punctuation\n",
    "        w = w.strip('\\'\"?,.')\n",
    "        #check if the word stats with an alphabet\n",
    "        val = re.search(r\"^[a-zA-Z][a-zA-Z0-9]*$\", w)\n",
    "        #ignore if it is a stop word\n",
    "        if(w in stopWords or val is None):\n",
    "            continue\n",
    "        else:\n",
    "            featureVector.append(w.lower())\n",
    "    return featureVector\n",
    "#end"
   ]
  },
  {
   "cell_type": "code",
   "execution_count": 7,
   "metadata": {
    "collapsed": true
   },
   "outputs": [],
   "source": [
    "#Read the tweets one by one and process it\n",
    "inpTweets = csv.reader(open('C:\\Users\\hp\\Documents\\Projects5\\classifiers\\labeled_Dataset.csv', 'rb'), delimiter=',', quotechar='|')\n",
    "tweets = []\n",
    "feature = []\n",
    "featureList = []\n",
    "stopWords = getStopWordList('C:/Users/hp/Documents/Projects5/classifiers/stopwords.txt')\n",
    "\n",
    "for row in inpTweets:\n",
    "    sentiment = row[0]\n",
    "    tweet = row[1]\n",
    "    processedTweet = processTweet(tweet)\n",
    "    featureVector = getFeatureVector(processedTweet)\n",
    "    feature.append(featureVector)\n",
    "    tweets.append((featureVector, sentiment));\n",
    "#end loop\n",
    "\n",
    "# save all the unigrams features in a list\n",
    "for li in feature:\n",
    "    for l in li:\n",
    "        featureList.append(l)\n",
    "\n",
    "#end saving\n"
   ]
  },
  {
   "cell_type": "code",
   "execution_count": 8,
   "metadata": {
    "collapsed": true
   },
   "outputs": [],
   "source": [
    "\n",
    "\n",
    "\n",
    "#start extract_features\n",
    "def extract_features(tweet):\n",
    "    tweet_words = set(tweet)\n",
    "    features = {}\n",
    "    for word in featureList:\n",
    "        features['contains(%s)' % word] = (word in tweet_words)\n",
    "    return features\n",
    "#end\n",
    "\n",
    "\n"
   ]
  },
  {
   "cell_type": "code",
   "execution_count": 9,
   "metadata": {
    "collapsed": true
   },
   "outputs": [],
   "source": [
    "     \n",
    "# Remove featureList duplicates\n",
    "featureList = list(set(featureList))\n",
    "\n"
   ]
  },
  {
   "cell_type": "code",
   "execution_count": 10,
   "metadata": {
    "collapsed": true
   },
   "outputs": [],
   "source": [
    "# Extract feature vector for all tweets in one shote\n",
    "training_set = nltk.classify.util.apply_features(extract_features, tweets)\n",
    "\n"
   ]
  },
  {
   "cell_type": "code",
   "execution_count": 11,
   "metadata": {
    "collapsed": true
   },
   "outputs": [],
   "source": [
    "# Train the classifier -----NAIVE BAYES---\n",
    "NBClassifier = nltk.NaiveBayesClassifier.train(training_set)\n",
    "\n"
   ]
  },
  {
   "cell_type": "code",
   "execution_count": 12,
   "metadata": {},
   "outputs": [
    {
     "name": "stdout",
     "output_type": "stream",
     "text": [
      "0\n",
      "Most Informative Features\n",
      "           contains(sad) = True                0 : 1      =     73.0 : 1.0\n",
      "   contains(musicmonday) = True                1 : 0      =     38.8 : 1.0\n",
      "  contains(followfriday) = True                1 : 0      =     19.3 : 1.0\n",
      "       contains(missing) = True                0 : 1      =     14.6 : 1.0\n",
      "       contains(anymore) = True                0 : 1      =     14.3 : 1.0\n",
      "         contains(didnt) = True                0 : 1      =     13.0 : 1.0\n",
      "         contains(upset) = True                0 : 1      =     13.0 : 1.0\n",
      "         contains(hates) = True                0 : 1      =     12.3 : 1.0\n",
      "      contains(horrible) = True                0 : 1      =     11.7 : 1.0\n",
      "          contains(sexy) = True                1 : 0      =     11.7 : 1.0\n",
      "None\n"
     ]
    }
   ],
   "source": [
    "# Test the classifier\n",
    "testTweet = 'nah soo booring '\n",
    "processedTestTweet = processTweet(testTweet)\n",
    "print NBClassifier.classify(extract_features(getFeatureVector(processedTestTweet)))\n",
    "print NBClassifier.show_most_informative_features(10)"
   ]
  },
  {
   "cell_type": "code",
   "execution_count": 13,
   "metadata": {
    "collapsed": true
   },
   "outputs": [],
   "source": [
    "from sklearn.externals import joblib\n",
    "joblib.dump(processTweet, 'senti_classifier.pkl')\n",
    "\n"
   ]
  },
  {
   "cell_type": "code",
   "execution_count": null,
   "metadata": {
    "collapsed": true
   },
   "outputs": [],
   "source": [
    "#load the NAIVE BAYES classifier we already build\n",
    "classifier = joblib.load('senti_classifier.pkl')"
   ]
  },
  {
   "cell_type": "code",
   "execution_count": 25,
   "metadata": {},
   "outputs": [
    {
     "name": "stdout",
     "output_type": "stream",
     "text": [
      "0\n",
      "Most Informative Features\n",
      "           contains(sad) = True                0 : 1      =     73.0 : 1.0\n",
      "   contains(musicmonday) = True                1 : 0      =     38.8 : 1.0\n",
      "  contains(followfriday) = True                1 : 0      =     19.3 : 1.0\n",
      "       contains(missing) = True                0 : 1      =     14.6 : 1.0\n",
      "       contains(anymore) = True                0 : 1      =     14.3 : 1.0\n",
      "         contains(didnt) = True                0 : 1      =     13.0 : 1.0\n",
      "         contains(upset) = True                0 : 1      =     13.0 : 1.0\n",
      "         contains(hates) = True                0 : 1      =     12.3 : 1.0\n",
      "      contains(horrible) = True                0 : 1      =     11.7 : 1.0\n",
      "          contains(sexy) = True                1 : 0      =     11.7 : 1.0\n",
      "None\n"
     ]
    }
   ],
   "source": [
    "# Test the classifier\n",
    "testTweet = 'actually i coundnt imagine he was that baaaaad '\n",
    "processedTestTweet = classifier(testTweet)\n",
    "print NBClassifier.classify(extract_features(getFeatureVector(processedTestTweet)))\n",
    "print NBClassifier.show_most_informative_features(10)"
   ]
  },
  {
   "cell_type": "code",
   "execution_count": null,
   "metadata": {
    "collapsed": true
   },
   "outputs": [],
   "source": []
  }
 ],
 "metadata": {
  "kernelspec": {
   "display_name": "Python 2",
   "language": "python",
   "name": "python2"
  },
  "language_info": {
   "codemirror_mode": {
    "name": "ipython",
    "version": 2
   },
   "file_extension": ".py",
   "mimetype": "text/x-python",
   "name": "python",
   "nbconvert_exporter": "python",
   "pygments_lexer": "ipython2",
   "version": "2.7.14"
  }
 },
 "nbformat": 4,
 "nbformat_minor": 2
}
